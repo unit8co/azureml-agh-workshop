{
  "cells": [
    {
      "cell_type": "code",
      "source": [
        "import os\n",
        "\n",
        "train_src_dir = \"./src\"\n",
        "os.makedirs(train_src_dir, exist_ok=True)"
      ],
      "outputs": [],
      "execution_count": 4,
      "metadata": {
        "gather": {
          "logged": 1667574046392
        }
      }
    },
    {
      "cell_type": "code",
      "source": [
        "!pip install azure-ai\n",
        "!pip install azure-ai-ml"
      ],
      "outputs": [
        {
          "output_type": "stream",
          "name": "stdout",
          "text": "\u001b[31mERROR: Could not find a version that satisfies the requirement azure-ai (from versions: none)\u001b[0m\n\u001b[31mERROR: No matching distribution found for azure-ai\u001b[0m\nRequirement already satisfied: azure-ai-ml in /anaconda/envs/azureml_py38/lib/python3.8/site-packages (1.0.0)\nRequirement already satisfied: pyyaml<7.0.0,>=5.1.0 in /anaconda/envs/azureml_py38/lib/python3.8/site-packages (from azure-ai-ml) (6.0)\nRequirement already satisfied: jsonschema<5.0.0,>=4.0.0 in /anaconda/envs/azureml_py38/lib/python3.8/site-packages (from azure-ai-ml) (4.9.1)\nRequirement already satisfied: typing-extensions<5.0.0 in /anaconda/envs/azureml_py38/lib/python3.8/site-packages (from azure-ai-ml) (4.3.0)\nRequirement already satisfied: strictyaml<=1.6.1 in /anaconda/envs/azureml_py38/lib/python3.8/site-packages (from azure-ai-ml) (1.6.1)\nRequirement already satisfied: azure-mgmt-core<2.0.0,>=1.3.0 in /anaconda/envs/azureml_py38/lib/python3.8/site-packages (from azure-ai-ml) (1.3.0)\nRequirement already satisfied: azure-storage-file-share<13.0.0 in /anaconda/envs/azureml_py38/lib/python3.8/site-packages (from azure-ai-ml) (12.10.1)\nRequirement already satisfied: tqdm<=4.63.0 in /anaconda/envs/azureml_py38/lib/python3.8/site-packages (from azure-ai-ml) (4.63.0)\nRequirement already satisfied: azure-storage-blob<13.0.0,>=12.10.0 in /anaconda/envs/azureml_py38/lib/python3.8/site-packages (from azure-ai-ml) (12.14.1)\nRequirement already satisfied: azure-storage-file-datalake<13.0.0 in /anaconda/envs/azureml_py38/lib/python3.8/site-packages (from azure-ai-ml) (12.9.1)\nRequirement already satisfied: pydash<6.0.0 in /anaconda/envs/azureml_py38/lib/python3.8/site-packages (from azure-ai-ml) (5.1.1)\nRequirement already satisfied: marshmallow<4.0.0,>=3.5 in /anaconda/envs/azureml_py38/lib/python3.8/site-packages (from azure-ai-ml) (3.18.0)\nRequirement already satisfied: azure-common<2.0.0,>=1.1 in /anaconda/envs/azureml_py38/lib/python3.8/site-packages (from azure-ai-ml) (1.1.28)\nRequirement already satisfied: azure-core!=1.22.0,<2.0.0,>=1.8.0 in /anaconda/envs/azureml_py38/lib/python3.8/site-packages (from azure-ai-ml) (1.24.2)\nRequirement already satisfied: pyjwt<3.0.0 in /anaconda/envs/azureml_py38/lib/python3.8/site-packages (from azure-ai-ml) (2.4.0)\nRequirement already satisfied: msrest>=0.6.18 in /anaconda/envs/azureml_py38/lib/python3.8/site-packages (from azure-ai-ml) (0.7.1)\nRequirement already satisfied: isodate in /anaconda/envs/azureml_py38/lib/python3.8/site-packages (from azure-ai-ml) (0.6.1)\nRequirement already satisfied: colorama<=0.4.4 in /anaconda/envs/azureml_py38/lib/python3.8/site-packages (from azure-ai-ml) (0.4.4)\nRequirement already satisfied: attrs>=17.4.0 in /anaconda/envs/azureml_py38/lib/python3.8/site-packages (from jsonschema<5.0.0,>=4.0.0->azure-ai-ml) (22.1.0)\nRequirement already satisfied: importlib-resources>=1.4.0; python_version < \"3.9\" in /anaconda/envs/azureml_py38/lib/python3.8/site-packages (from jsonschema<5.0.0,>=4.0.0->azure-ai-ml) (5.9.0)\nRequirement already satisfied: pkgutil-resolve-name>=1.3.10; python_version < \"3.9\" in /anaconda/envs/azureml_py38/lib/python3.8/site-packages (from jsonschema<5.0.0,>=4.0.0->azure-ai-ml) (1.3.10)\nRequirement already satisfied: pyrsistent!=0.17.0,!=0.17.1,!=0.17.2,>=0.14.0 in /anaconda/envs/azureml_py38/lib/python3.8/site-packages (from jsonschema<5.0.0,>=4.0.0->azure-ai-ml) (0.18.1)\nRequirement already satisfied: python-dateutil>=2.6.0 in /anaconda/envs/azureml_py38/lib/python3.8/site-packages (from strictyaml<=1.6.1->azure-ai-ml) (2.8.2)\nRequirement already satisfied: cryptography>=2.1.4 in /anaconda/envs/azureml_py38/lib/python3.8/site-packages (from azure-storage-file-share<13.0.0->azure-ai-ml) (37.0.4)\nRequirement already satisfied: packaging>=17.0 in /anaconda/envs/azureml_py38/lib/python3.8/site-packages (from marshmallow<4.0.0,>=3.5->azure-ai-ml) (21.3)\nRequirement already satisfied: six>=1.11.0 in /anaconda/envs/azureml_py38/lib/python3.8/site-packages (from azure-core!=1.22.0,<2.0.0,>=1.8.0->azure-ai-ml) (1.16.0)\nRequirement already satisfied: requests>=2.18.4 in /anaconda/envs/azureml_py38/lib/python3.8/site-packages (from azure-core!=1.22.0,<2.0.0,>=1.8.0->azure-ai-ml) (2.28.1)\nRequirement already satisfied: certifi>=2017.4.17 in /anaconda/envs/azureml_py38/lib/python3.8/site-packages (from msrest>=0.6.18->azure-ai-ml) (2022.6.15)\nRequirement already satisfied: requests-oauthlib>=0.5.0 in /anaconda/envs/azureml_py38/lib/python3.8/site-packages (from msrest>=0.6.18->azure-ai-ml) (1.3.1)\nRequirement already satisfied: zipp>=3.1.0; python_version < \"3.10\" in /anaconda/envs/azureml_py38/lib/python3.8/site-packages (from importlib-resources>=1.4.0; python_version < \"3.9\"->jsonschema<5.0.0,>=4.0.0->azure-ai-ml) (3.8.1)\nRequirement already satisfied: cffi>=1.12 in /anaconda/envs/azureml_py38/lib/python3.8/site-packages (from cryptography>=2.1.4->azure-storage-file-share<13.0.0->azure-ai-ml) (1.15.1)\nRequirement already satisfied: pyparsing!=3.0.5,>=2.0.2 in /anaconda/envs/azureml_py38/lib/python3.8/site-packages (from packaging>=17.0->marshmallow<4.0.0,>=3.5->azure-ai-ml) (3.0.9)\nRequirement already satisfied: idna<4,>=2.5 in /anaconda/envs/azureml_py38/lib/python3.8/site-packages (from requests>=2.18.4->azure-core!=1.22.0,<2.0.0,>=1.8.0->azure-ai-ml) (3.3)\nRequirement already satisfied: urllib3<1.27,>=1.21.1 in /anaconda/envs/azureml_py38/lib/python3.8/site-packages (from requests>=2.18.4->azure-core!=1.22.0,<2.0.0,>=1.8.0->azure-ai-ml) (1.26.9)\nRequirement already satisfied: charset-normalizer<3,>=2 in /anaconda/envs/azureml_py38/lib/python3.8/site-packages (from requests>=2.18.4->azure-core!=1.22.0,<2.0.0,>=1.8.0->azure-ai-ml) (2.1.0)\nRequirement already satisfied: oauthlib>=3.0.0 in /anaconda/envs/azureml_py38/lib/python3.8/site-packages (from requests-oauthlib>=0.5.0->msrest>=0.6.18->azure-ai-ml) (3.2.0)\nRequirement already satisfied: pycparser in /anaconda/envs/azureml_py38/lib/python3.8/site-packages (from cffi>=1.12->cryptography>=2.1.4->azure-storage-file-share<13.0.0->azure-ai-ml) (2.21)\n"
        }
      ],
      "execution_count": 4,
      "metadata": {
        "jupyter": {
          "source_hidden": false,
          "outputs_hidden": false
        },
        "nteract": {
          "transient": {
            "deleting": false
          }
        }
      }
    },
    {
      "cell_type": "code",
      "source": [
        "!wget https://azuremlexamples.blob.core.windows.net/datasets/credit_card/default%20of%20credit%20card%20clients.csv"
      ],
      "outputs": [],
      "execution_count": null,
      "metadata": {
        "jupyter": {
          "source_hidden": false,
          "outputs_hidden": false
        },
        "nteract": {
          "transient": {
            "deleting": false
          }
        }
      }
    },
    {
      "cell_type": "markdown",
      "source": [
        "In the next cell, enter your Subscription ID, Resource Group name and Workspace name. To find these values:\n",
        "\n",
        "1.    In the upper right Azure Machine Learning studio toolbar, select your workspace name.\n",
        "2.    Copy the value for workspace, resource group and subscription ID into the code.\n",
        "3.    You'll need to copy one value, close the area and paste, then come back for the next one."
      ],
      "metadata": {
        "nteract": {
          "transient": {
            "deleting": false
          }
        }
      }
    },
    {
      "cell_type": "code",
      "source": [
        "from azureml.core import Workspace\n",
        "from azureml.core import Experiment\n",
        "ws = Workspace.from_config()\n"
      ],
      "outputs": [],
      "execution_count": 3,
      "metadata": {
        "jupyter": {
          "source_hidden": false,
          "outputs_hidden": false
        },
        "nteract": {
          "transient": {
            "deleting": false
          }
        },
        "gather": {
          "logged": 1667810358387
        }
      }
    },
    {
      "cell_type": "code",
      "source": [
        "\n",
        "run = [ r for r in Experiment(ws, 'train-credit-cards').get_runs()]"
      ],
      "outputs": [],
      "execution_count": 4,
      "metadata": {
        "jupyter": {
          "source_hidden": false,
          "outputs_hidden": false
        },
        "nteract": {
          "transient": {
            "deleting": false
          }
        },
        "gather": {
          "logged": 1667810378502
        }
      }
    },
    {
      "cell_type": "code",
      "source": [
        "from azureml.core import Workspace, Dataset\n",
        "\n",
        "subscription_id = '827dbc18-97d7-4a9d-91d1-a0d0d15c9603'\n",
        "resource_group = 'blazejtest'\n",
        "workspace_name = 'blazejamlworkshop'\n",
        "\n",
        "workspace = Workspace(subscription_id, resource_group, workspace_name)\n",
        "\n",
        "dataset = Dataset.get_by_name(workspace, name='credit_cards')"
      ],
      "outputs": [],
      "execution_count": 5,
      "metadata": {
        "jupyter": {
          "source_hidden": false,
          "outputs_hidden": false
        },
        "nteract": {
          "transient": {
            "deleting": false
          }
        },
        "gather": {
          "logged": 1667809049661
        }
      }
    },
    {
      "cell_type": "markdown",
      "source": [
        "## Good, old fashioned model training"
      ],
      "metadata": {
        "nteract": {
          "transient": {
            "deleting": false
          }
        }
      }
    },
    {
      "cell_type": "code",
      "source": [
        "import pandas as pd\n",
        "from sklearn.ensemble import GradientBoostingClassifier\n",
        "from sklearn.metrics import classification_report\n",
        "from sklearn.model_selection import train_test_split\n",
        "\n",
        "file_name = 'default of credit card clients.csv'\n",
        "TEST_TRAIN_RATIO = 0.2\n",
        "N_ESTIMATORS = 100\n",
        "LEARNING_RATE = 1e-4\n",
        "\n",
        "credit_df = dataset.to_pandas_dataframe()\n",
        "credit_df = credit_df.drop(\"ID\", axis=1)\n",
        "\n",
        "train_df, test_df = train_test_split(\n",
        "    credit_df,\n",
        "    test_size=TEST_TRAIN_RATIO,\n",
        ")\n",
        "###################\n",
        "#</prepare the data>\n",
        "###################\n",
        "\n",
        "##################\n",
        "#<train the model>\n",
        "##################\n",
        "# extracting the label column\n",
        "y_train = train_df.pop(\"default payment next month\")\n",
        "\n",
        "# convert the dataframe values to array\n",
        "X_train = train_df.values\n",
        "\n",
        "# extracting the label column\n",
        "y_test = test_df.pop(\"default payment next month\")\n",
        "\n",
        "# convert the dataframe values to array\n",
        "X_test = test_df.values\n",
        "\n",
        "print(f\"Training with data of shape {X_train.shape}\")\n",
        "\n",
        "clf = GradientBoostingClassifier(\n",
        "    n_estimators=N_ESTIMATORS, learning_rate=LEARNING_RATE\n",
        ")\n",
        "clf.fit(X_train, y_train)\n",
        "\n",
        "y_pred = clf.predict(X_test)"
      ],
      "outputs": [
        {
          "output_type": "stream",
          "name": "stdout",
          "text": "Training with data of shape (24000, 23)\n"
        }
      ],
      "execution_count": 61,
      "metadata": {
        "jupyter": {
          "source_hidden": false,
          "outputs_hidden": false
        },
        "nteract": {
          "transient": {
            "deleting": false
          }
        },
        "gather": {
          "logged": 1667812581124
        }
      }
    },
    {
      "cell_type": "code",
      "source": [
        "print(classification_report(y_test, y_pred))"
      ],
      "outputs": [
        {
          "output_type": "stream",
          "name": "stdout",
          "text": "              precision    recall  f1-score   support\n\n           0       0.77      1.00      0.87      4645\n           1       0.00      0.00      0.00      1355\n\n    accuracy                           0.77      6000\n   macro avg       0.39      0.50      0.44      6000\nweighted avg       0.60      0.77      0.68      6000\n\n"
        }
      ],
      "execution_count": 11,
      "metadata": {
        "jupyter": {
          "source_hidden": false,
          "outputs_hidden": false
        },
        "nteract": {
          "transient": {
            "deleting": false
          }
        },
        "gather": {
          "logged": 1667574106199
        }
      }
    },
    {
      "cell_type": "markdown",
      "source": [
        "## "
      ],
      "metadata": {
        "nteract": {
          "transient": {
            "deleting": false
          }
        }
      }
    },
    {
      "cell_type": "code",
      "source": [
        "import pandas as pd\n",
        "from sklearn.ensemble import GradientBoostingClassifier\n",
        "from sklearn.metrics import classification_report\n",
        "from sklearn.model_selection import train_test_split\n",
        "import mlflow\n",
        "def train_model(TEST_TRAIN_RATIO, N_ESTIMATORS, LEARNING_RATE):\n",
        "    mlflow.sklearn.autolog()\n",
        "    credit_df = dataset.to_pandas_dataframe()\n",
        "\n",
        "    train_df, test_df = train_test_split(\n",
        "        credit_df,\n",
        "        test_size=TEST_TRAIN_RATIO,\n",
        "    )\n",
        "    ###################\n",
        "    #</prepare the data>\n",
        "    ###################\n",
        "\n",
        "    ##################\n",
        "    #<train the model>\n",
        "    ##################\n",
        "    # extracting the label column\n",
        "    y_train = train_df.pop(\"default payment next month\")\n",
        "\n",
        "    # convert the dataframe values to array\n",
        "    X_train = train_df.values\n",
        "\n",
        "    # extracting the label column\n",
        "    y_test = test_df.pop(\"default payment next month\")\n",
        "\n",
        "    # convert the dataframe values to array\n",
        "    X_test = test_df.values\n",
        "\n",
        "    print(f\"Training with data of shape {X_train.shape}\")\n",
        "\n",
        "    clf = GradientBoostingClassifier(\n",
        "        n_estimators=N_ESTIMATORS, learning_rate=LEARNING_RATE\n",
        "    )\n",
        "    clf.fit(X_train, y_train)\n",
        "    mlflow.sklearn.eval_and_log_metrics(clf, X_test, y_test, prefix=\"val_\")"
      ],
      "outputs": [],
      "execution_count": 30,
      "metadata": {
        "jupyter": {
          "source_hidden": false,
          "outputs_hidden": false
        },
        "nteract": {
          "transient": {
            "deleting": false
          }
        },
        "gather": {
          "logged": 1667575842257
        }
      }
    },
    {
      "cell_type": "code",
      "source": [
        "import mlflow\n",
        "\n",
        "mlflow.set_tracking_uri(workspace.get_mlflow_tracking_uri())\n",
        "experiment_name = \"experiment\"\n",
        "mlflow.set_experiment(experiment_name)"
      ],
      "outputs": [
        {
          "output_type": "execute_result",
          "execution_count": 31,
          "data": {
            "text/plain": "<Experiment: artifact_location='', experiment_id='e050f288-2dba-4620-9d8f-6ec4d872aa86', lifecycle_stage='active', name='experiment', tags={}>"
          },
          "metadata": {}
        }
      ],
      "execution_count": 31,
      "metadata": {
        "jupyter": {
          "source_hidden": false,
          "outputs_hidden": false
        },
        "nteract": {
          "transient": {
            "deleting": false
          }
        },
        "gather": {
          "logged": 1667575843033
        }
      }
    },
    {
      "cell_type": "markdown",
      "source": [
        "# To copy"
      ],
      "metadata": {
        "nteract": {
          "transient": {
            "deleting": false
          }
        }
      }
    },
    {
      "cell_type": "code",
      "source": [
        "import os\n",
        "os.makedirs(\"./scripts\", exist_ok=True)"
      ],
      "outputs": [],
      "execution_count": 121,
      "metadata": {
        "jupyter": {
          "source_hidden": false,
          "outputs_hidden": false
        },
        "nteract": {
          "transient": {
            "deleting": false
          }
        },
        "gather": {
          "logged": 1667836090187
        }
      }
    },
    {
      "cell_type": "code",
      "source": [
        "%%writefile scripts/train.py \n",
        "## %%writefile creates a .py file from cell. This file will be written to scripts/train.py\n",
        "\n",
        "import argparse # needed to parse arguments\n",
        "from azureml.core import Run, Workspace # needed to fetch experiment context inside container\n",
        "from sklearn.ensemble import GradientBoostingClassifier\n",
        "from sklearn.model_selection import train_test_split\n",
        "import argparse\n",
        "import mlflow\n",
        "\n",
        "def train_model_with_hyperparameters(TEST_TRAIN_RATIO, N_ESTIMATORS, LEARNING_RATE):\n",
        "    mlflow.autolog() # start autologging\n",
        "    \n",
        "    run = Run.get_context() # get information about azure ml run\n",
        "    dataset = run.input_datasets['credit_cards_ds']    \n",
        "    with mlflow.start_run() as run:\n",
        "        credit_df = dataset.to_pandas_dataframe()\n",
        "        credit_df = credit_df.drop(\"ID\", axis=1)\n",
        "        \n",
        "        ###################\n",
        "        #</prepare the data>\n",
        "        ###################\n",
        "        train_df, test_df = train_test_split(\n",
        "            credit_df,\n",
        "            test_size=TEST_TRAIN_RATIO,\n",
        "        )\n",
        "\n",
        "\n",
        "        ##################\n",
        "        #<train the model>\n",
        "        ##################\n",
        "        # extracting the label column\n",
        "        y_train = train_df.pop(\"default payment next month\")\n",
        "\n",
        "        # convert the dataframe values to array\n",
        "        X_train = train_df.values\n",
        "\n",
        "        # extracting the label column\n",
        "        y_test = test_df.pop(\"default payment next month\")\n",
        "\n",
        "        # convert the dataframe values to array\n",
        "        X_test = test_df.values\n",
        "\n",
        "        print(f\"Training with data of shape {X_train.shape}\")\n",
        "\n",
        "        clf = GradientBoostingClassifier(\n",
        "            n_estimators=N_ESTIMATORS, learning_rate=LEARNING_RATE\n",
        "        )\n",
        "        clf.fit(X_train, y_train)\n",
        "        mlflow.sklearn.eval_and_log_metrics(clf, X_test, y_test, prefix=\"val_\")\n",
        "\n",
        "if __name__ == \"__main__\":\n",
        "    parser = argparse.ArgumentParser()\n",
        "    parser.add_argument(\"--credit_cards_ds\")\n",
        "    parser.add_argument(\"--test_train_ratio\", type=float)\n",
        "    parser.add_argument(\"--n_estimators\", type=int)\n",
        "    parser.add_argument(\"--learning_rate\", type=float)\n",
        "    args = parser.parse_args()\n",
        "    train_model_with_hyperparameters(\n",
        "        args.test_train_ratio, \n",
        "        args.n_estimators, \n",
        "        args.learning_rate\n",
        "    )\n"
      ],
      "outputs": [
        {
          "output_type": "stream",
          "name": "stdout",
          "text": "Overwriting scripts/train.py\n"
        }
      ],
      "execution_count": 141,
      "metadata": {
        "jupyter": {
          "source_hidden": false,
          "outputs_hidden": false
        },
        "nteract": {
          "transient": {
            "deleting": false
          }
        }
      }
    },
    {
      "cell_type": "code",
      "source": [
        "%%writefile scripts/env.yml \n",
        "## %%writefile creates a file from cell. This file will be written to scripts/train.py\n",
        "\n",
        "name: workshop-env\n",
        "dependencies:\n",
        "- python=3.8.5\n",
        "- pip:\n",
        "  - azureml-sdk==1.44.0\n",
        "  - scikit-learn==0.22.1\n",
        "  - scipy==1.5.3\n",
        "  - numpy==1.21.6\n",
        "  - azureml-mlflow\n",
        "  - pandas==1.1.5\n"
      ],
      "outputs": [
        {
          "output_type": "stream",
          "name": "stdout",
          "text": "Overwriting scripts/env.yml\n"
        }
      ],
      "execution_count": 142,
      "metadata": {
        "jupyter": {
          "source_hidden": false,
          "outputs_hidden": false
        },
        "nteract": {
          "transient": {
            "deleting": false
          }
        }
      }
    },
    {
      "cell_type": "code",
      "source": [
        "from azureml.core import ScriptRunConfig\n",
        "from azureml.core import  Environment, Dataset\n",
        "\n",
        "\n",
        "\"\"\"\n",
        "ScriptRunConfig - encapsulates configuration of training script\n",
        "Environment - encapsulates conda / pip env\n",
        "\"\"\"\n",
        "\n",
        "\n",
        "COMPUTE_TARGET = \"testblazejamld\" # replace with your own compute name\n",
        "dataset = Dataset.get_by_name(ws, \"credit_cards\", version='latest')\n",
        "env = Environment.from_conda_specification(\n",
        "    name='workshop-env',\n",
        "    file_path='./scripts/env.yml',\n",
        ")\n",
        "\n",
        "TEST_TRAIN_RATIO = 0.2\n",
        "N_ESTIMATORS = 100\n",
        "LEARNING_RATE = 1e-4\n",
        "\n",
        "config = ScriptRunConfig(source_directory=\"./scripts\", \n",
        "                      script='train.py', \n",
        "                      arguments =[\n",
        "                        \"--credit_cards_ds\", dataset.as_named_input(\"credit_cards_ds\"),\n",
        "                        \"--test_train_ratio\", TEST_TRAIN_RATIO,\n",
        "                        \"--n_estimators\", N_ESTIMATORS,\n",
        "                        \"--learning_rate\", LEARNING_RATE,\n",
        "                      ],\n",
        "                      compute_target=COMPUTE_TARGET,\n",
        "                      environment=env)\n"
      ],
      "outputs": [],
      "execution_count": 143,
      "metadata": {
        "jupyter": {
          "source_hidden": false,
          "outputs_hidden": false
        },
        "nteract": {
          "transient": {
            "deleting": false
          }
        },
        "gather": {
          "logged": 1667844593872
        }
      }
    },
    {
      "cell_type": "code",
      "source": [
        "# it will take a bit longer first time since it has to create proper docker image\n",
        "from azureml.core import Experiment\n",
        "exp = Experiment(ws, 'containerized-experiment')\n",
        "run = exp.submit(config=config)"
      ],
      "outputs": [],
      "execution_count": 144,
      "metadata": {
        "jupyter": {
          "source_hidden": false,
          "outputs_hidden": false
        },
        "nteract": {
          "transient": {
            "deleting": false
          }
        },
        "gather": {
          "logged": 1667844596739
        }
      }
    },
    {
      "cell_type": "code",
      "source": [],
      "outputs": [],
      "execution_count": null,
      "metadata": {
        "jupyter": {
          "source_hidden": false,
          "outputs_hidden": false
        },
        "nteract": {
          "transient": {
            "deleting": false
          }
        }
      }
    }
  ],
  "metadata": {
    "kernelspec": {
      "name": "python38-azureml",
      "language": "python",
      "display_name": "Python 3.8 - AzureML"
    },
    "language_info": {
      "name": "python",
      "version": "3.8.5",
      "mimetype": "text/x-python",
      "codemirror_mode": {
        "name": "ipython",
        "version": 3
      },
      "pygments_lexer": "ipython3",
      "nbconvert_exporter": "python",
      "file_extension": ".py"
    },
    "kernel_info": {
      "name": "python38-azureml"
    },
    "microsoft": {
      "host": {
        "AzureML": {
          "notebookHasBeenCompleted": true
        }
      }
    },
    "nteract": {
      "version": "nteract-front-end@1.0.0"
    }
  },
  "nbformat": 4,
  "nbformat_minor": 2
}